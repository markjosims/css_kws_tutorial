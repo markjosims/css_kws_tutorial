{
 "cells": [
  {
   "cell_type": "markdown",
   "id": "d484088e",
   "metadata": {},
   "source": [
    "# Week 2: MFCCs and HMMs\n",
    "This week we're moving on to how to apply sequence models to decode speech. To do this, we'll introduce a model that's closely related to the WFST, namely the *Hidden Markov Model*. We'll start with a simple analogy involving geography and pathfinding in order to understand the intuition behind the model. We'll use the `pomegranate` library for modeling HMMs, though HMMs can also be converted into WFSTs, which we'll demonstrate using `pynini`.\n",
    "\n",
    "After that, we'll review how we can use MFCCs to represent speech in a numerical form that's useful for machine learning, and then use this to apply HMMs to speech. We'll use `librosa`, a Python library for handling audio, to calculate MFCCs."
   ]
  },
  {
   "cell_type": "code",
   "execution_count": 67,
   "id": "b4c5b579",
   "metadata": {},
   "outputs": [],
   "source": [
    "import librosa\n",
    "from praatio import textgrid\n",
    "import pandas as pd\n",
    "import numpy as np\n",
    "import sklearn.manifold\n",
    "import matplotlib.pyplot as plt\n",
    "import seaborn as sns\n",
    "from pomegranate.hmm.sparse_hmm import SparseHMM\n",
    "from pomegranate.distributions import Categorical\n",
    "import pynini\n",
    "from librikws import *\n",
    "import os"
   ]
  },
  {
   "cell_type": "markdown",
   "id": "d2c21656",
   "metadata": {},
   "source": [
    "## Section 1: Navigating a map with HMMs\n",
    "HMMs are a Markov sequence model like WFSTs. Like WFSTs, HMMs have various states that are linked by connecting arcs where each arc is associated with a weight. The key difference between WFSTs and HMMs lies in the separation of states from *observations* in the latter.\n",
    "\n",
    "In FSTs, we traverse the graph by consuming a sequence of letters, i.e. the input word. Let $W$ be the input word and $w_i$ be the $i^{th}$ letter in the input word. At each point we can transition from the current state $n$ to state $m$ if there is an arc between $n$ and $m$ that consumes the letter $w_i$. Thus, the letters dictate which states we visit as we draw a path through the FST.\n",
    "\n",
    "In HMMs, we traverse the graph by instead consuming *observations*. Each state in the HMM has a certain probability of 'emitting' an observation. Each state also has a certain probability of *transitioning* to another state. This can be best illustrated with an example.\n",
    "\n",
    "Imagine we are navigating between three states, where here 'state' is a literal state of the United States of America. In this version of America, the states of Texas, California and Alaska are all geographically contiguous, so we can walk from one straight into the other. Also in this America, there are no signs or overt indicator of which state we are in. We don't see a \"Welcome to California\" sign when we cross from Texas into California. What we do see, though, are geographical features, in particular snow, beaches or oil rigs.\n",
    "\n",
    "![HMM example](media/hmm.svg)\n",
    "\n",
    "There are more oil rigs in Texas than in the other two, there beaches in California than the other two, and there is more snow in Alaska than the other two. Thus, if we observe a lot of oil rigs, but few beaches and no snow, then there's a good chance we're in Texas. As soon as we start seeing a lot of beaches, there's a good chance we've made it to California. However, if we observe a lot of oil rigs, a single beach, and then more oil rigs, it's likely we stayed in Texas the whole time. That's because, even if it's more probable that you'll see a beach in California, we still need to *transition* from Texas to California, and after seeing a single beach it's more likely that we happened on a beach in Texas than we happened to transition from Texas to California.\n",
    "\n",
    "These probabilities are represented by the color and thickness of the arrows in the graph above. A thick red line indicates high probability and a thin blue line low probability. The observation probabilities of oil rig, snow and beach are not the only thing that differentiates the different states. They also have different transition probabilities. The probability of transitioning from California to Texas is very high: Californian's want lower rent and gas. The probability of transitioning from Texas to California is a bit lower. Alaska is harder to get to, even though, for the sake of this metaphor, it's possible to walk there. Because of that, transition probabilities into and out of Alaska are lower than they are between California and Texas."
   ]
  },
  {
   "cell_type": "code",
   "execution_count": 68,
   "id": "899d276b",
   "metadata": {},
   "outputs": [
    {
     "data": {
      "text/plain": [
       "[(Silent(), Categorical(), 0.4),\n",
       " (Silent(), Categorical(), 0.4),\n",
       " (Silent(), Categorical(), 0.2),\n",
       " (Categorical(), Categorical(), 0.7),\n",
       " (Categorical(), Categorical(), 0.2),\n",
       " (Categorical(), Categorical(), 0.1),\n",
       " (Categorical(), Categorical(), 0.5),\n",
       " (Categorical(), Categorical(), 0.4),\n",
       " (Categorical(), Categorical(), 0.1),\n",
       " (Categorical(), Categorical(), 0.85),\n",
       " (Categorical(), Categorical(), 0.05),\n",
       " (Categorical(), Categorical(), 0.1)]"
      ]
     },
     "execution_count": 68,
     "metadata": {},
     "output_type": "execute_result"
    }
   ],
   "source": [
    "observations = [\"snow\", \"oilrig\", \"beach\"]\n",
    "snow = observations.index('snow')\n",
    "oilrig = observations.index('oilrig')\n",
    "beach = observations.index('beach')\n",
    "\n",
    "texas = Categorical([[0.1, 0.7, 0.2]])\n",
    "cali = Categorical([[0.3, 0.1, 0.6]])\n",
    "alaska = Categorical([[0.7, 0.2, 0.1]])\n",
    "states = [texas, cali, alaska]\n",
    "\n",
    "hmm = SparseHMM(distributions=states)\n",
    "\n",
    "hmm.add_edge(hmm.start, texas, 0.4)\n",
    "hmm.add_edge(hmm.start, cali, 0.4)\n",
    "hmm.add_edge(hmm.start, alaska, 0.2)\n",
    "\n",
    "hmm.add_edge(texas, texas, 0.7)\n",
    "hmm.add_edge(texas, cali, 0.2)\n",
    "hmm.add_edge(texas, alaska, 0.1)\n",
    "\n",
    "hmm.add_edge(cali, cali, 0.5)\n",
    "hmm.add_edge(cali, texas, 0.4)\n",
    "hmm.add_edge(cali, alaska, 0.1)\n",
    "\n",
    "hmm.add_edge(alaska, alaska, 0.85)\n",
    "hmm.add_edge(alaska, texas, 0.05)\n",
    "hmm.add_edge(alaska, cali, 0.1)\n",
    "\n",
    "hmm.edges"
   ]
  },
  {
   "cell_type": "code",
   "execution_count": 69,
   "id": "6b4f4a61",
   "metadata": {},
   "outputs": [
    {
     "data": {
      "text/plain": [
       "tensor([[1, 1, 1, 0]])"
      ]
     },
     "execution_count": 69,
     "metadata": {},
     "output_type": "execute_result"
    }
   ],
   "source": [
    "observation_vector = [[[beach], [beach], [beach], [snow]]]\n",
    "hmm.viterbi(observation_vector)"
   ]
  },
  {
   "cell_type": "markdown",
   "id": "8d3e9e2b",
   "metadata": {},
   "source": [
    "## Section 2: Encoding audio with MFCCs"
   ]
  },
  {
   "cell_type": "code",
   "execution_count": 70,
   "id": "67bf0b2c-b88a-4762-941d-6e915b2704a8",
   "metadata": {},
   "outputs": [],
   "source": [
    "keywords = get_unique_keywords()"
   ]
  },
  {
   "cell_type": "code",
   "execution_count": 71,
   "id": "2eedd9e5",
   "metadata": {},
   "outputs": [
    {
     "data": {
      "text/plain": [
       "word_index                                                    1199\n",
       "index                                                         1199\n",
       "file             train-clean-100/1970/26100/1970-26100-0024_2wo...\n",
       "speaker                                                       1970\n",
       "keyword                                                    i asked\n",
       "dur                                                           0.68\n",
       "class                                                            2\n",
       "sentence_file      train-clean-100/1970/26100/1970-26100-0024.flac\n",
       "Name: 1199, dtype: object"
      ]
     },
     "execution_count": 71,
     "metadata": {},
     "output_type": "execute_result"
    }
   ],
   "source": [
    "keyword, sentence = get_random_keyword_sentence_pair(keywords[42])\n",
    "keyword"
   ]
  },
  {
   "cell_type": "code",
   "execution_count": 72,
   "id": "1039b126-b2c5-4c39-9a5c-49817ee4cea9",
   "metadata": {},
   "outputs": [
    {
     "data": {
      "text/plain": [
       "sentence_index                                                 6736\n",
       "speaker                                                        2764\n",
       "chapter                                                       36617\n",
       "file                train-clean-100/2764/36617/2764-36617-0026.flac\n",
       "sentence          i rushed aboard i asked for commander farragut...\n",
       "Name: 6736, dtype: object"
      ]
     },
     "execution_count": 72,
     "metadata": {},
     "output_type": "execute_result"
    }
   ],
   "source": [
    "sentence"
   ]
  },
  {
   "cell_type": "code",
   "execution_count": 73,
   "id": "f7eed50a-6419-4d19-8f8c-7f763e92aad2",
   "metadata": {},
   "outputs": [],
   "source": [
    "get_librispeech_path = lambda relpath: os.path.join(LIBRISPEECH_ROOT, relpath)"
   ]
  },
  {
   "cell_type": "code",
   "execution_count": 74,
   "id": "f25b8126-5855-473f-8863-734357fd0531",
   "metadata": {},
   "outputs": [],
   "source": [
    "textgrid_path = sentence['file'].replace('.flac', '.TextGrid')"
   ]
  },
  {
   "cell_type": "code",
   "execution_count": 75,
   "id": "d9bf540b",
   "metadata": {},
   "outputs": [],
   "source": [
    "def textgrid_to_df(textgrid_path):\n",
    "    rows = []\n",
    "    for tier in textgrid_obj.tiers:\n",
    "        for start, end, value in tier.entries:\n",
    "            if not value:\n",
    "                continue\n",
    "            rows.append({'start': start, 'end': end, 'value': value, 'tier': tier.name})\n",
    "    df = pd.DataFrame(rows)\n",
    "    return df"
   ]
  },
  {
   "cell_type": "code",
   "execution_count": 76,
   "id": "3d465bb5-1391-45e0-9378-f88583e47e00",
   "metadata": {},
   "outputs": [
    {
     "data": {
      "text/html": [
       "<div>\n",
       "<style scoped>\n",
       "    .dataframe tbody tr th:only-of-type {\n",
       "        vertical-align: middle;\n",
       "    }\n",
       "\n",
       "    .dataframe tbody tr th {\n",
       "        vertical-align: top;\n",
       "    }\n",
       "\n",
       "    .dataframe thead th {\n",
       "        text-align: right;\n",
       "    }\n",
       "</style>\n",
       "<table border=\"1\" class=\"dataframe\">\n",
       "  <thead>\n",
       "    <tr style=\"text-align: right;\">\n",
       "      <th></th>\n",
       "      <th>start</th>\n",
       "      <th>end</th>\n",
       "      <th>value</th>\n",
       "      <th>tier</th>\n",
       "    </tr>\n",
       "  </thead>\n",
       "  <tbody>\n",
       "    <tr>\n",
       "      <th>0</th>\n",
       "      <td>0.21</td>\n",
       "      <td>0.49</td>\n",
       "      <td>they</td>\n",
       "      <td>words</td>\n",
       "    </tr>\n",
       "    <tr>\n",
       "      <th>1</th>\n",
       "      <td>0.49</td>\n",
       "      <td>0.83</td>\n",
       "      <td>being</td>\n",
       "      <td>words</td>\n",
       "    </tr>\n",
       "    <tr>\n",
       "      <th>2</th>\n",
       "      <td>0.83</td>\n",
       "      <td>0.95</td>\n",
       "      <td>to</td>\n",
       "      <td>words</td>\n",
       "    </tr>\n",
       "    <tr>\n",
       "      <th>3</th>\n",
       "      <td>0.95</td>\n",
       "      <td>1.15</td>\n",
       "      <td>go</td>\n",
       "      <td>words</td>\n",
       "    </tr>\n",
       "    <tr>\n",
       "      <th>4</th>\n",
       "      <td>1.15</td>\n",
       "      <td>1.41</td>\n",
       "      <td>one</td>\n",
       "      <td>words</td>\n",
       "    </tr>\n",
       "    <tr>\n",
       "      <th>...</th>\n",
       "      <td>...</td>\n",
       "      <td>...</td>\n",
       "      <td>...</td>\n",
       "      <td>...</td>\n",
       "    </tr>\n",
       "    <tr>\n",
       "      <th>184</th>\n",
       "      <td>12.19</td>\n",
       "      <td>12.22</td>\n",
       "      <td>IH0</td>\n",
       "      <td>phones</td>\n",
       "    </tr>\n",
       "    <tr>\n",
       "      <th>185</th>\n",
       "      <td>12.22</td>\n",
       "      <td>12.27</td>\n",
       "      <td>HH</td>\n",
       "      <td>phones</td>\n",
       "    </tr>\n",
       "    <tr>\n",
       "      <th>186</th>\n",
       "      <td>12.27</td>\n",
       "      <td>12.38</td>\n",
       "      <td>IH1</td>\n",
       "      <td>phones</td>\n",
       "    </tr>\n",
       "    <tr>\n",
       "      <th>187</th>\n",
       "      <td>12.38</td>\n",
       "      <td>12.51</td>\n",
       "      <td>M</td>\n",
       "      <td>phones</td>\n",
       "    </tr>\n",
       "    <tr>\n",
       "      <th>188</th>\n",
       "      <td>12.51</td>\n",
       "      <td>12.59</td>\n",
       "      <td>sp</td>\n",
       "      <td>phones</td>\n",
       "    </tr>\n",
       "  </tbody>\n",
       "</table>\n",
       "<p>189 rows × 4 columns</p>\n",
       "</div>"
      ],
      "text/plain": [
       "     start    end  value    tier\n",
       "0     0.21   0.49   they   words\n",
       "1     0.49   0.83  being   words\n",
       "2     0.83   0.95     to   words\n",
       "3     0.95   1.15     go   words\n",
       "4     1.15   1.41    one   words\n",
       "..     ...    ...    ...     ...\n",
       "184  12.19  12.22    IH0  phones\n",
       "185  12.22  12.27     HH  phones\n",
       "186  12.27  12.38    IH1  phones\n",
       "187  12.38  12.51      M  phones\n",
       "188  12.51  12.59     sp  phones\n",
       "\n",
       "[189 rows x 4 columns]"
      ]
     },
     "execution_count": 76,
     "metadata": {},
     "output_type": "execute_result"
    }
   ],
   "source": [
    "textgrid_df = textgrid_to_df(textgrid_path)\n",
    "textgrid_df"
   ]
  },
  {
   "cell_type": "code",
   "execution_count": 77,
   "id": "7fd39795",
   "metadata": {},
   "outputs": [
    {
     "data": {
      "text/html": [
       "<div>\n",
       "<style scoped>\n",
       "    .dataframe tbody tr th:only-of-type {\n",
       "        vertical-align: middle;\n",
       "    }\n",
       "\n",
       "    .dataframe tbody tr th {\n",
       "        vertical-align: top;\n",
       "    }\n",
       "\n",
       "    .dataframe thead th {\n",
       "        text-align: right;\n",
       "    }\n",
       "</style>\n",
       "<table border=\"1\" class=\"dataframe\">\n",
       "  <thead>\n",
       "    <tr style=\"text-align: right;\">\n",
       "      <th></th>\n",
       "      <th>start</th>\n",
       "      <th>end</th>\n",
       "      <th>value</th>\n",
       "      <th>tier</th>\n",
       "      <th>start_sample</th>\n",
       "      <th>end_sample</th>\n",
       "      <th>mfcc_index_start</th>\n",
       "      <th>mfcc_index_end</th>\n",
       "    </tr>\n",
       "  </thead>\n",
       "  <tbody>\n",
       "    <tr>\n",
       "      <th>0</th>\n",
       "      <td>0.21</td>\n",
       "      <td>0.49</td>\n",
       "      <td>they</td>\n",
       "      <td>words</td>\n",
       "      <td>4630</td>\n",
       "      <td>10804</td>\n",
       "      <td>9</td>\n",
       "      <td>20</td>\n",
       "    </tr>\n",
       "    <tr>\n",
       "      <th>1</th>\n",
       "      <td>0.49</td>\n",
       "      <td>0.83</td>\n",
       "      <td>being</td>\n",
       "      <td>words</td>\n",
       "      <td>10804</td>\n",
       "      <td>18301</td>\n",
       "      <td>21</td>\n",
       "      <td>34</td>\n",
       "    </tr>\n",
       "    <tr>\n",
       "      <th>2</th>\n",
       "      <td>0.83</td>\n",
       "      <td>0.95</td>\n",
       "      <td>to</td>\n",
       "      <td>words</td>\n",
       "      <td>18301</td>\n",
       "      <td>20947</td>\n",
       "      <td>35</td>\n",
       "      <td>40</td>\n",
       "    </tr>\n",
       "    <tr>\n",
       "      <th>3</th>\n",
       "      <td>0.95</td>\n",
       "      <td>1.15</td>\n",
       "      <td>go</td>\n",
       "      <td>words</td>\n",
       "      <td>20947</td>\n",
       "      <td>25357</td>\n",
       "      <td>41</td>\n",
       "      <td>48</td>\n",
       "    </tr>\n",
       "    <tr>\n",
       "      <th>4</th>\n",
       "      <td>1.15</td>\n",
       "      <td>1.41</td>\n",
       "      <td>one</td>\n",
       "      <td>words</td>\n",
       "      <td>25357</td>\n",
       "      <td>31090</td>\n",
       "      <td>49</td>\n",
       "      <td>59</td>\n",
       "    </tr>\n",
       "  </tbody>\n",
       "</table>\n",
       "</div>"
      ],
      "text/plain": [
       "   start   end  value   tier  start_sample  end_sample  mfcc_index_start  \\\n",
       "0   0.21  0.49   they  words          4630       10804                 9   \n",
       "1   0.49  0.83  being  words         10804       18301                21   \n",
       "2   0.83  0.95     to  words         18301       20947                35   \n",
       "3   0.95  1.15     go  words         20947       25357                41   \n",
       "4   1.15  1.41    one  words         25357       31090                49   \n",
       "\n",
       "   mfcc_index_end  \n",
       "0              20  \n",
       "1              34  \n",
       "2              40  \n",
       "3              48  \n",
       "4              59  "
      ]
     },
     "execution_count": 77,
     "metadata": {},
     "output_type": "execute_result"
    }
   ],
   "source": [
    "df['start_sample'] = (df['start']*samplerate).astype(int)\n",
    "df['end_sample'] = (df['end']*samplerate).astype(int)\n",
    "df.head()"
   ]
  },
  {
   "cell_type": "code",
   "execution_count": 78,
   "id": "e9a1980c-6087-413a-9f85-f956932530ae",
   "metadata": {},
   "outputs": [
    {
     "data": {
      "text/plain": [
       "['sil',\n",
       " 'DH',\n",
       " 'EY1',\n",
       " 'B',\n",
       " 'IY1',\n",
       " 'IH0',\n",
       " 'NG',\n",
       " 'T',\n",
       " 'AH0',\n",
       " 'G',\n",
       " 'OW1',\n",
       " 'W',\n",
       " 'AH1',\n",
       " 'N',\n",
       " 'D',\n",
       " 'AY1',\n",
       " 'ER0',\n",
       " 'sp',\n",
       " 'AE1',\n",
       " 'S',\n",
       " 'M',\n",
       " 'EH1',\n",
       " 'ER1',\n",
       " 'AA1',\n",
       " 'F',\n",
       " 'L',\n",
       " 'IH1',\n",
       " 'V',\n",
       " 'Z',\n",
       " 'K',\n",
       " 'AO1',\n",
       " 'R',\n",
       " 'P',\n",
       " 'CH',\n",
       " 'UH1',\n",
       " 'HH']"
      ]
     },
     "execution_count": 78,
     "metadata": {},
     "output_type": "execute_result"
    }
   ],
   "source": [
    "phonemes = list(df.loc[df['tier']=='phones', 'value'].unique())\n",
    "phonemes"
   ]
  },
  {
   "cell_type": "code",
   "execution_count": 79,
   "id": "8bc35b52",
   "metadata": {},
   "outputs": [
    {
     "data": {
      "text/plain": [
       "(13, 373)"
      ]
     },
     "execution_count": 79,
     "metadata": {},
     "output_type": "execute_result"
    }
   ],
   "source": [
    "mfcc_matrix = librosa.feature.mfcc(y=wav, sr=samplerate, n_mfcc=13)\n",
    "mfcc_matrix.shape"
   ]
  },
  {
   "cell_type": "code",
   "execution_count": 80,
   "id": "2b0ffcee",
   "metadata": {},
   "outputs": [
    {
     "data": {
      "text/plain": [
       "510"
      ]
     },
     "execution_count": 80,
     "metadata": {},
     "output_type": "execute_result"
    }
   ],
   "source": [
    "mfcc_window_count = mfcc_matrix.shape[1]\n",
    "num_samples = wav.shape[0]\n",
    "samples_per_mfcc_window = num_samples//mfcc_window_count\n",
    "samples_per_mfcc_window"
   ]
  },
  {
   "cell_type": "code",
   "execution_count": 81,
   "id": "ef076442",
   "metadata": {},
   "outputs": [
    {
     "data": {
      "text/html": [
       "<div>\n",
       "<style scoped>\n",
       "    .dataframe tbody tr th:only-of-type {\n",
       "        vertical-align: middle;\n",
       "    }\n",
       "\n",
       "    .dataframe tbody tr th {\n",
       "        vertical-align: top;\n",
       "    }\n",
       "\n",
       "    .dataframe thead th {\n",
       "        text-align: right;\n",
       "    }\n",
       "</style>\n",
       "<table border=\"1\" class=\"dataframe\">\n",
       "  <thead>\n",
       "    <tr style=\"text-align: right;\">\n",
       "      <th></th>\n",
       "      <th>start</th>\n",
       "      <th>end</th>\n",
       "      <th>value</th>\n",
       "      <th>tier</th>\n",
       "      <th>start_sample</th>\n",
       "      <th>end_sample</th>\n",
       "      <th>mfcc_index_start</th>\n",
       "      <th>mfcc_index_end</th>\n",
       "    </tr>\n",
       "  </thead>\n",
       "  <tbody>\n",
       "    <tr>\n",
       "      <th>0</th>\n",
       "      <td>0.21</td>\n",
       "      <td>0.49</td>\n",
       "      <td>they</td>\n",
       "      <td>words</td>\n",
       "      <td>4630</td>\n",
       "      <td>10804</td>\n",
       "      <td>9</td>\n",
       "      <td>20</td>\n",
       "    </tr>\n",
       "    <tr>\n",
       "      <th>1</th>\n",
       "      <td>0.49</td>\n",
       "      <td>0.83</td>\n",
       "      <td>being</td>\n",
       "      <td>words</td>\n",
       "      <td>10804</td>\n",
       "      <td>18301</td>\n",
       "      <td>21</td>\n",
       "      <td>34</td>\n",
       "    </tr>\n",
       "    <tr>\n",
       "      <th>2</th>\n",
       "      <td>0.83</td>\n",
       "      <td>0.95</td>\n",
       "      <td>to</td>\n",
       "      <td>words</td>\n",
       "      <td>18301</td>\n",
       "      <td>20947</td>\n",
       "      <td>35</td>\n",
       "      <td>40</td>\n",
       "    </tr>\n",
       "    <tr>\n",
       "      <th>3</th>\n",
       "      <td>0.95</td>\n",
       "      <td>1.15</td>\n",
       "      <td>go</td>\n",
       "      <td>words</td>\n",
       "      <td>20947</td>\n",
       "      <td>25357</td>\n",
       "      <td>41</td>\n",
       "      <td>48</td>\n",
       "    </tr>\n",
       "    <tr>\n",
       "      <th>4</th>\n",
       "      <td>1.15</td>\n",
       "      <td>1.41</td>\n",
       "      <td>one</td>\n",
       "      <td>words</td>\n",
       "      <td>25357</td>\n",
       "      <td>31090</td>\n",
       "      <td>49</td>\n",
       "      <td>59</td>\n",
       "    </tr>\n",
       "  </tbody>\n",
       "</table>\n",
       "</div>"
      ],
      "text/plain": [
       "   start   end  value   tier  start_sample  end_sample  mfcc_index_start  \\\n",
       "0   0.21  0.49   they  words          4630       10804                 9   \n",
       "1   0.49  0.83  being  words         10804       18301                21   \n",
       "2   0.83  0.95     to  words         18301       20947                35   \n",
       "3   0.95  1.15     go  words         20947       25357                41   \n",
       "4   1.15  1.41    one  words         25357       31090                49   \n",
       "\n",
       "   mfcc_index_end  \n",
       "0              20  \n",
       "1              34  \n",
       "2              40  \n",
       "3              48  \n",
       "4              59  "
      ]
     },
     "execution_count": 81,
     "metadata": {},
     "output_type": "execute_result"
    }
   ],
   "source": [
    "df['mfcc_index_start']=df['start_sample']//samples_per_mfcc_window\n",
    "df['mfcc_index_end']=df['end_sample']//samples_per_mfcc_window-1\n",
    "\n",
    "df.head()"
   ]
  },
  {
   "cell_type": "code",
   "execution_count": 82,
   "id": "bf47510f",
   "metadata": {},
   "outputs": [
    {
     "data": {
      "text/plain": [
       "array([ 0,  0,  0,  0,  0,  0,  0,  0,  0,  1,  1,  0,  2,  2,  2,  2,  2,\n",
       "        2,  2,  2,  0,  3,  3,  3,  0,  4,  4,  4,  4,  0,  0,  6,  6,  6,\n",
       "        0,  7,  7,  0,  8,  8,  0,  9,  9,  9,  0, 10, 10, 10,  0, 11, 11,\n",
       "       11, 11, 11,  0, 12, 12,  0, 13,  0, 11, 11, 11, 11,  0,  2,  2,  2,\n",
       "        2,  2,  0,  8,  0, 13, 13, 13, 13, 13, 13, 13,  0, 14,  0, 15, 15,\n",
       "       15, 15, 15, 15,  0,  8,  0, 13, 13,  0, 12, 12, 12,  0,  1,  1,  0,\n",
       "       16, 16, 16, 16, 16,  0, 17, 17, 17, 17, 17, 17, 17, 17, 17, 17, 17,\n",
       "       17, 17, 17,  0, 15, 15, 15, 15, 15, 15, 15, 15, 15, 15,  0, 18, 18,\n",
       "       18, 18, 18, 18,  0, 19, 19, 19, 19,  0,  0,  0,  8,  8,  8,  0, 20,\n",
       "        0, 11, 11, 11, 11, 11,  0, 21,  0,  1,  1,  1,  0, 16, 16, 16, 16,\n",
       "        0,  1,  1,  0,  2,  2,  0, 11, 11, 11, 11,  0, 22, 22, 22, 22, 22,\n",
       "        0, 22, 22, 22, 22, 22,  0, 13, 13,  0,  5,  5,  5,  0, 19,  0,  7,\n",
       "        0, 11,  0,  5,  0,  1,  0,  9,  9,  9,  9,  0, 23, 23, 23, 23, 23,\n",
       "        0, 14, 14,  0, 24, 24,  0, 16,  0, 14,  0,  5,  0, 25, 25, 25,  0,\n",
       "       26,  0, 27, 27,  0, 16, 16,  0,  8,  0, 13, 13, 13,  0, 19, 19, 19,\n",
       "       19, 19,  0,  0,  1,  1,  1,  1,  1,  0,  2,  2,  2,  0,  7,  7,  7,\n",
       "        7,  7,  7,  0, 10, 10, 10, 10, 10,  0, 25, 25, 25,  0, 14, 14,  0,\n",
       "        0,  4,  4,  4,  4,  0,  1,  1,  1,  1,  0,  2,  2,  2,  2,  2,  0,\n",
       "       14, 14, 14,  0, 26, 26, 26, 26, 26, 26, 26, 26,  0, 14,  0,  0, 28,\n",
       "       28,  0,  0,  2,  0, 11, 11, 11,  0, 16, 16,  0,  2,  2,  2,  2,  2,\n",
       "        0,  0,  8,  0, 25, 25, 25, 25, 25, 25,  0, 17, 17, 17, 17, 17, 17,\n",
       "       17, 17, 17, 17, 17, 17,  0,  8,  8,  8,  0, 13,  0,  0,  0,  7])"
      ]
     },
     "execution_count": 82,
     "metadata": {},
     "output_type": "execute_result"
    }
   ],
   "source": [
    "mfcc_phoneme_ids = np.zeros(mfcc_window_count, dtype=int)\n",
    "\n",
    "def set_mfcc_phoneme_ids(row):\n",
    "    mfcc_phoneme_ids[row['mfcc_index_start']:row['mfcc_index_end']]=phonemes.index(row['value'])\n",
    "\n",
    "df[df['tier']=='phones'].apply(set_mfcc_phoneme_ids, axis=1)\n",
    "mfcc_phoneme_ids"
   ]
  },
  {
   "cell_type": "markdown",
   "id": "99d7115e",
   "metadata": {},
   "source": [
    "Let's visualize the MFCCs using `t-SNE`"
   ]
  },
  {
   "cell_type": "code",
   "execution_count": 83,
   "id": "cbf385b5",
   "metadata": {},
   "outputs": [
    {
     "data": {
      "text/plain": [
       "(373, 2)"
      ]
     },
     "execution_count": 83,
     "metadata": {},
     "output_type": "execute_result"
    }
   ],
   "source": [
    "mfcc_tsne = sklearn.manifold.TSNE().fit_transform(mfcc_matrix.T)\n",
    "mfcc_tsne.shape"
   ]
  },
  {
   "cell_type": "code",
   "execution_count": 84,
   "id": "f2b5ae01",
   "metadata": {},
   "outputs": [
    {
     "data": {
      "text/html": [
       "<div>\n",
       "<style scoped>\n",
       "    .dataframe tbody tr th:only-of-type {\n",
       "        vertical-align: middle;\n",
       "    }\n",
       "\n",
       "    .dataframe tbody tr th {\n",
       "        vertical-align: top;\n",
       "    }\n",
       "\n",
       "    .dataframe thead th {\n",
       "        text-align: right;\n",
       "    }\n",
       "</style>\n",
       "<table border=\"1\" class=\"dataframe\">\n",
       "  <thead>\n",
       "    <tr style=\"text-align: right;\">\n",
       "      <th></th>\n",
       "      <th>0</th>\n",
       "      <th>1</th>\n",
       "      <th>phoneme</th>\n",
       "    </tr>\n",
       "  </thead>\n",
       "  <tbody>\n",
       "    <tr>\n",
       "      <th>0</th>\n",
       "      <td>12.247676</td>\n",
       "      <td>2.413061</td>\n",
       "      <td>sil</td>\n",
       "    </tr>\n",
       "    <tr>\n",
       "      <th>1</th>\n",
       "      <td>11.442869</td>\n",
       "      <td>2.720026</td>\n",
       "      <td>sil</td>\n",
       "    </tr>\n",
       "    <tr>\n",
       "      <th>2</th>\n",
       "      <td>-5.554235</td>\n",
       "      <td>6.057753</td>\n",
       "      <td>sil</td>\n",
       "    </tr>\n",
       "    <tr>\n",
       "      <th>3</th>\n",
       "      <td>-12.364092</td>\n",
       "      <td>6.058178</td>\n",
       "      <td>sil</td>\n",
       "    </tr>\n",
       "    <tr>\n",
       "      <th>4</th>\n",
       "      <td>-24.334274</td>\n",
       "      <td>4.667197</td>\n",
       "      <td>sil</td>\n",
       "    </tr>\n",
       "  </tbody>\n",
       "</table>\n",
       "</div>"
      ],
      "text/plain": [
       "           0         1 phoneme\n",
       "0  12.247676  2.413061     sil\n",
       "1  11.442869  2.720026     sil\n",
       "2  -5.554235  6.057753     sil\n",
       "3 -12.364092  6.058178     sil\n",
       "4 -24.334274  4.667197     sil"
      ]
     },
     "execution_count": 84,
     "metadata": {},
     "output_type": "execute_result"
    }
   ],
   "source": [
    "tsne_df = pd.DataFrame(mfcc_tsne)\n",
    "tsne_df['phoneme']=mfcc_phoneme_ids\n",
    "tsne_df['phoneme']=tsne_df['phoneme'].apply(lambda i: phonemes[i])\n",
    "tsne_df.head()"
   ]
  },
  {
   "cell_type": "code",
   "execution_count": 85,
   "id": "31c5b4ac",
   "metadata": {},
   "outputs": [],
   "source": [
    "speech_mask = tsne_df['phoneme']!='sil'"
   ]
  },
  {
   "cell_type": "code",
   "execution_count": 86,
   "id": "af53b10d",
   "metadata": {},
   "outputs": [
    {
     "data": {
      "text/plain": [
       "<Axes: xlabel='0', ylabel='1'>"
      ]
     },
     "execution_count": 86,
     "metadata": {},
     "output_type": "execute_result"
    },
    {
     "data": {
      "image/png": "[encoded data removed]",
      "text/plain": [
       "<Figure size 640x480 with 1 Axes>"
      ]
     },
     "metadata": {},
     "output_type": "display_data"
    }
   ],
   "source": [
    "sns.scatterplot(tsne_df[speech_mask], x=0, y=1, hue='phoneme')"
   ]
  }
 ],
 "metadata": {
  "kernelspec": {
   "display_name": "Python 3 (ipykernel)",
   "language": "python",
   "name": "python3"
  },
  "language_info": {
   "codemirror_mode": {
    "name": "ipython",
    "version": 3
   },
   "file_extension": ".py",
   "mimetype": "text/x-python",
   "name": "python",
   "nbconvert_exporter": "python",
   "pygments_lexer": "ipython3",
   "version": "3.13.3"
  }
 },
 "nbformat": 4,
 "nbformat_minor": 5
}
