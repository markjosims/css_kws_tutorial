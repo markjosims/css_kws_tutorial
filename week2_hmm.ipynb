{
 "cells": [
  {
   "cell_type": "markdown",
   "id": "d484088e",
   "metadata": {},
   "source": [
    "# Week 2: MFCCs and HMMs\n",
    "This week we're moving on to how to apply sequence models to decode speech. To do this, we'll introduce a model that's closely related to the WFST, namely the *Hidden Markov Model*. We'll start with a simple analogy involving geography and pathfinding in order to understand the intuition behind the model. We'll use the `pomegranate` library for modeling HMMs, though HMMs can also be converted into WFSTs, which we'll demonstrate using `pynini`.\n",
    "\n",
    "After that, we'll review how we can use MFCCs to represent speech in a numerical form that's useful for machine learning, and then use this to apply HMMs to speech. We'll use `librosa`, a Python library for handling audio, to calculate MFCCs."
   ]
  },
  {
   "cell_type": "code",
   "execution_count": 9,
   "id": "b4c5b579",
   "metadata": {},
   "outputs": [],
   "source": [
    "import librosa\n",
    "from pympi import Praat\n",
    "import pandas as pd\n",
    "import numpy as np\n",
    "import sklearn.manifold\n",
    "import matplotlib.pyplot as plt\n",
    "import seaborn as sns\n",
    "from pomegranate.hmm.sparse_hmm import SparseHMM\n",
    "from pomegranate.distributions import Categorical\n",
    "import pynini"
   ]
  },
  {
   "cell_type": "markdown",
   "id": "d2c21656",
   "metadata": {},
   "source": [
    "## Section 1: Navigating a map with HMMs\n",
    "HMMs are a Markov sequence model like WFSTs. Like WFSTs, HMMs have various states that are linked by connecting arcs where each arc is associated with a weight. The key difference between WFSTs and HMMs lies in the separation of states from *observations* in the latter.\n",
    "\n",
    "In FSTs, we traverse the graph by consuming a sequence of letters, i.e. the input word. Let $W$ be the input word and $w_i$ be the $i^{th}$ letter in the input word. At each point we can transition from the current state $n$ to state $m$ if there is an arc between $n$ and $m$ that consumes the letter $w_i$. Thus, the letters dictate which states we visit as we draw a path through the FST.\n",
    "\n",
    "In HMMs, we traverse the graph by instead consuming *observations*. Each state in the HMM has a certain probability of 'emitting' an observation. Each state also has a certain probability of *transitioning* to another state. This can be best illustrated with an example.\n",
    "\n",
    "Imagine we are navigating between three states, where here 'state' is a literal state of the United States of America. In this version of America, the states of Texas, California and Alaska are all geographically contiguous, so we can walk from one straight into the other. Also in this America, there are no signs or overt indicator of which state we are in. We don't see a \"Welcome to California\" sign when we cross from Texas into California. What we do see, though, are geographical features, in particular snow, beaches or oil rigs.\n",
    "\n",
    "![HMM example](media/hmm.svg)\n",
    "\n",
    "There are more oil rigs in Texas than in the other two, there beaches in California than the other two, and there is more snow in Alaska than the other two. Thus, if we observe a lot of oil rigs, but few beaches and no snow, then there's a good chance we're in Texas. As soon as we start seeing a lot of beaches, there's a good chance we've made it to California. However, if we observe a lot of oil rigs, a single beach, and then more oil rigs, it's likely we stayed in Texas the whole time. That's because, even if it's more probable that you'll see a beach in California, we still need to *transition* from Texas to California, and after seeing a single beach it's more likely that we happened on a beach in Texas than we happened to transition from Texas to California.\n",
    "\n",
    "These probabilities are represented by the color and thickness of the arrows in the graph above. A thick red line indicates high probability and a thin blue line low probability. The observation probabilities of oil rig, snow and beach are not the only thing that differentiates the different states. They also have different transition probabilities. The probability of transitioning from California to Texas is very high: Californian's want lower rent and gas. The probability of transitioning from Texas to California is a bit lower. Alaska is harder to get to, even though, for the sake of this metaphor, it's possible to walk there. Because of that, transition probabilities into and out of Alaska are lower than they are between California and Texas."
   ]
  },
  {
   "cell_type": "code",
   "execution_count": null,
   "id": "899d276b",
   "metadata": {},
   "outputs": [
    {
     "data": {
      "text/plain": [
       "[(Silent(), Categorical(), 0.4),\n",
       " (Silent(), Categorical(), 0.4),\n",
       " (Silent(), Categorical(), 0.2),\n",
       " (Categorical(), Categorical(), 0.7),\n",
       " (Categorical(), Categorical(), 0.2),\n",
       " (Categorical(), Categorical(), 0.1),\n",
       " (Categorical(), Categorical(), 0.5),\n",
       " (Categorical(), Categorical(), 0.4),\n",
       " (Categorical(), Categorical(), 0.1),\n",
       " (Categorical(), Categorical(), 0.85),\n",
       " (Categorical(), Categorical(), 0.05),\n",
       " (Categorical(), Categorical(), 0.1)]"
      ]
     },
     "execution_count": 21,
     "metadata": {},
     "output_type": "execute_result"
    }
   ],
   "source": [
    "observations = [\"snow\", \"oilrig\", \"beach\"]\n",
    "snow = observations.index('snow')\n",
    "oilrig = observations.index('oilrig')\n",
    "beach = observations.index('beach')\n",
    "\n",
    "texas = Categorical([[0.1, 0.7, 0.2]])\n",
    "cali = Categorical([[0.3, 0.1, 0.6]])\n",
    "alaska = Categorical([[0.7, 0.2, 0.1]])\n",
    "states = [texas, cali, alaska]\n",
    "\n",
    "hmm = SparseHMM(distributions=states)\n",
    "\n",
    "hmm.add_edge(hmm.start, texas, 0.4)\n",
    "hmm.add_edge(hmm.start, cali, 0.4)\n",
    "hmm.add_edge(hmm.start, alaska, 0.2)\n",
    "\n",
    "hmm.add_edge(texas, texas, 0.7)\n",
    "hmm.add_edge(texas, cali, 0.2)\n",
    "hmm.add_edge(texas, alaska, 0.1)\n",
    "\n",
    "hmm.add_edge(cali, cali, 0.5)\n",
    "hmm.add_edge(cali, texas, 0.4)\n",
    "hmm.add_edge(cali, alaska, 0.1)\n",
    "\n",
    "hmm.add_edge(alaska, alaska, 0.85)\n",
    "hmm.add_edge(alaska, texas, 0.05)\n",
    "hmm.add_edge(alaska, cali, 0.1)\n",
    "\n",
    "hmm.edges"
   ]
  },
  {
   "cell_type": "code",
   "execution_count": 25,
   "id": "6b4f4a61",
   "metadata": {},
   "outputs": [
    {
     "data": {
      "text/plain": [
       "tensor([[1, 1, 1, 0]])"
      ]
     },
     "execution_count": 25,
     "metadata": {},
     "output_type": "execute_result"
    }
   ],
   "source": [
    "observation_vector = [[[beach], [beach], [beach], [snow]]]\n",
    "hmm.viterbi(observation_vector)"
   ]
  },
  {
   "cell_type": "markdown",
   "id": "8d3e9e2b",
   "metadata": {},
   "source": [
    "## Section 2: Encoding audio with MFCCs"
   ]
  },
  {
   "cell_type": "code",
   "execution_count": 161,
   "id": "ba73109c",
   "metadata": {},
   "outputs": [],
   "source": [
    "wav_path = 'data/ailn.wav'\n",
    "textgrid_path = 'data/ailn.TextGrid'"
   ]
  },
  {
   "cell_type": "code",
   "execution_count": 162,
   "id": "3327bc4f",
   "metadata": {},
   "outputs": [
    {
     "data": {
      "text/plain": [
       "((190560,), 22050)"
      ]
     },
     "execution_count": 162,
     "metadata": {},
     "output_type": "execute_result"
    }
   ],
   "source": [
    "wav, samplerate = librosa.load(wav_path)\n",
    "wav.shape, samplerate"
   ]
  },
  {
   "cell_type": "code",
   "execution_count": 163,
   "id": "2eedd9e5",
   "metadata": {},
   "outputs": [],
   "source": [
    "textgrid = Praat.TextGrid(textgrid_path)"
   ]
  },
  {
   "cell_type": "code",
   "execution_count": 164,
   "id": "d9bf540b",
   "metadata": {},
   "outputs": [
    {
     "data": {
      "text/html": [
       "<div>\n",
       "<style scoped>\n",
       "    .dataframe tbody tr th:only-of-type {\n",
       "        vertical-align: middle;\n",
       "    }\n",
       "\n",
       "    .dataframe tbody tr th {\n",
       "        vertical-align: top;\n",
       "    }\n",
       "\n",
       "    .dataframe thead th {\n",
       "        text-align: right;\n",
       "    }\n",
       "</style>\n",
       "<table border=\"1\" class=\"dataframe\">\n",
       "  <thead>\n",
       "    <tr style=\"text-align: right;\">\n",
       "      <th></th>\n",
       "      <th>start</th>\n",
       "      <th>end</th>\n",
       "      <th>value</th>\n",
       "      <th>tier</th>\n",
       "    </tr>\n",
       "  </thead>\n",
       "  <tbody>\n",
       "    <tr>\n",
       "      <th>0</th>\n",
       "      <td>1.936085</td>\n",
       "      <td>2.017377</td>\n",
       "      <td>l</td>\n",
       "      <td>phone</td>\n",
       "    </tr>\n",
       "    <tr>\n",
       "      <th>1</th>\n",
       "      <td>2.017377</td>\n",
       "      <td>2.248902</td>\n",
       "      <td>a</td>\n",
       "      <td>phone</td>\n",
       "    </tr>\n",
       "    <tr>\n",
       "      <th>2</th>\n",
       "      <td>2.248902</td>\n",
       "      <td>2.408397</td>\n",
       "      <td>n</td>\n",
       "      <td>phone</td>\n",
       "    </tr>\n",
       "    <tr>\n",
       "      <th>3</th>\n",
       "      <td>3.012286</td>\n",
       "      <td>3.106954</td>\n",
       "      <td>l</td>\n",
       "      <td>phone</td>\n",
       "    </tr>\n",
       "    <tr>\n",
       "      <th>4</th>\n",
       "      <td>3.106954</td>\n",
       "      <td>3.378611</td>\n",
       "      <td>i</td>\n",
       "      <td>phone</td>\n",
       "    </tr>\n",
       "  </tbody>\n",
       "</table>\n",
       "</div>"
      ],
      "text/plain": [
       "      start       end value   tier\n",
       "0  1.936085  2.017377     l  phone\n",
       "1  2.017377  2.248902     a  phone\n",
       "2  2.248902  2.408397     n  phone\n",
       "3  3.012286  3.106954     l  phone\n",
       "4  3.106954  3.378611     i  phone"
      ]
     },
     "execution_count": 164,
     "metadata": {},
     "output_type": "execute_result"
    }
   ],
   "source": [
    "rows = []\n",
    "for tier in textgrid.tiers:\n",
    "    for start, end, value in tier.get_intervals():\n",
    "        if not value:\n",
    "            continue\n",
    "        rows.append({'start': start, 'end': end, 'value': value, 'tier': tier.name})\n",
    "df = pd.DataFrame(rows)\n",
    "df.head()"
   ]
  },
  {
   "cell_type": "code",
   "execution_count": 165,
   "id": "7fd39795",
   "metadata": {},
   "outputs": [
    {
     "data": {
      "text/html": [
       "<div>\n",
       "<style scoped>\n",
       "    .dataframe tbody tr th:only-of-type {\n",
       "        vertical-align: middle;\n",
       "    }\n",
       "\n",
       "    .dataframe tbody tr th {\n",
       "        vertical-align: top;\n",
       "    }\n",
       "\n",
       "    .dataframe thead th {\n",
       "        text-align: right;\n",
       "    }\n",
       "</style>\n",
       "<table border=\"1\" class=\"dataframe\">\n",
       "  <thead>\n",
       "    <tr style=\"text-align: right;\">\n",
       "      <th></th>\n",
       "      <th>start</th>\n",
       "      <th>end</th>\n",
       "      <th>value</th>\n",
       "      <th>tier</th>\n",
       "      <th>start_sample</th>\n",
       "      <th>end_sample</th>\n",
       "    </tr>\n",
       "  </thead>\n",
       "  <tbody>\n",
       "    <tr>\n",
       "      <th>0</th>\n",
       "      <td>1.936085</td>\n",
       "      <td>2.017377</td>\n",
       "      <td>l</td>\n",
       "      <td>phone</td>\n",
       "      <td>42690</td>\n",
       "      <td>44483</td>\n",
       "    </tr>\n",
       "    <tr>\n",
       "      <th>1</th>\n",
       "      <td>2.017377</td>\n",
       "      <td>2.248902</td>\n",
       "      <td>a</td>\n",
       "      <td>phone</td>\n",
       "      <td>44483</td>\n",
       "      <td>49588</td>\n",
       "    </tr>\n",
       "    <tr>\n",
       "      <th>2</th>\n",
       "      <td>2.248902</td>\n",
       "      <td>2.408397</td>\n",
       "      <td>n</td>\n",
       "      <td>phone</td>\n",
       "      <td>49588</td>\n",
       "      <td>53105</td>\n",
       "    </tr>\n",
       "    <tr>\n",
       "      <th>3</th>\n",
       "      <td>3.012286</td>\n",
       "      <td>3.106954</td>\n",
       "      <td>l</td>\n",
       "      <td>phone</td>\n",
       "      <td>66420</td>\n",
       "      <td>68508</td>\n",
       "    </tr>\n",
       "    <tr>\n",
       "      <th>4</th>\n",
       "      <td>3.106954</td>\n",
       "      <td>3.378611</td>\n",
       "      <td>i</td>\n",
       "      <td>phone</td>\n",
       "      <td>68508</td>\n",
       "      <td>74498</td>\n",
       "    </tr>\n",
       "  </tbody>\n",
       "</table>\n",
       "</div>"
      ],
      "text/plain": [
       "      start       end value   tier  start_sample  end_sample\n",
       "0  1.936085  2.017377     l  phone         42690       44483\n",
       "1  2.017377  2.248902     a  phone         44483       49588\n",
       "2  2.248902  2.408397     n  phone         49588       53105\n",
       "3  3.012286  3.106954     l  phone         66420       68508\n",
       "4  3.106954  3.378611     i  phone         68508       74498"
      ]
     },
     "execution_count": 165,
     "metadata": {},
     "output_type": "execute_result"
    }
   ],
   "source": [
    "df['start_sample'] = (df['start']*samplerate).astype(int)\n",
    "df['end_sample'] = (df['end']*samplerate).astype(int)\n",
    "df.head()"
   ]
  },
  {
   "cell_type": "code",
   "execution_count": 166,
   "id": "8bc35b52",
   "metadata": {},
   "outputs": [
    {
     "data": {
      "text/plain": [
       "(13, 373)"
      ]
     },
     "execution_count": 166,
     "metadata": {},
     "output_type": "execute_result"
    }
   ],
   "source": [
    "mfcc_matrix = librosa.feature.mfcc(y=wav, sr=samplerate, n_mfcc=13)\n",
    "mfcc_matrix.shape"
   ]
  },
  {
   "cell_type": "code",
   "execution_count": 167,
   "id": "2b0ffcee",
   "metadata": {},
   "outputs": [
    {
     "data": {
      "text/plain": [
       "510"
      ]
     },
     "execution_count": 167,
     "metadata": {},
     "output_type": "execute_result"
    }
   ],
   "source": [
    "mfcc_window_count = mfcc_matrix.shape[1]\n",
    "num_samples = wav.shape[0]\n",
    "samples_per_mfcc_window = num_samples//mfcc_window_count\n",
    "samples_per_mfcc_window"
   ]
  },
  {
   "cell_type": "code",
   "execution_count": 168,
   "id": "ef076442",
   "metadata": {},
   "outputs": [
    {
     "data": {
      "text/html": [
       "<div>\n",
       "<style scoped>\n",
       "    .dataframe tbody tr th:only-of-type {\n",
       "        vertical-align: middle;\n",
       "    }\n",
       "\n",
       "    .dataframe tbody tr th {\n",
       "        vertical-align: top;\n",
       "    }\n",
       "\n",
       "    .dataframe thead th {\n",
       "        text-align: right;\n",
       "    }\n",
       "</style>\n",
       "<table border=\"1\" class=\"dataframe\">\n",
       "  <thead>\n",
       "    <tr style=\"text-align: right;\">\n",
       "      <th></th>\n",
       "      <th>start</th>\n",
       "      <th>end</th>\n",
       "      <th>value</th>\n",
       "      <th>tier</th>\n",
       "      <th>start_sample</th>\n",
       "      <th>end_sample</th>\n",
       "      <th>mfcc_index_start</th>\n",
       "      <th>mfcc_index_end</th>\n",
       "    </tr>\n",
       "  </thead>\n",
       "  <tbody>\n",
       "    <tr>\n",
       "      <th>0</th>\n",
       "      <td>1.936085</td>\n",
       "      <td>2.017377</td>\n",
       "      <td>l</td>\n",
       "      <td>phone</td>\n",
       "      <td>42690</td>\n",
       "      <td>44483</td>\n",
       "      <td>83</td>\n",
       "      <td>86</td>\n",
       "    </tr>\n",
       "    <tr>\n",
       "      <th>1</th>\n",
       "      <td>2.017377</td>\n",
       "      <td>2.248902</td>\n",
       "      <td>a</td>\n",
       "      <td>phone</td>\n",
       "      <td>44483</td>\n",
       "      <td>49588</td>\n",
       "      <td>87</td>\n",
       "      <td>96</td>\n",
       "    </tr>\n",
       "    <tr>\n",
       "      <th>2</th>\n",
       "      <td>2.248902</td>\n",
       "      <td>2.408397</td>\n",
       "      <td>n</td>\n",
       "      <td>phone</td>\n",
       "      <td>49588</td>\n",
       "      <td>53105</td>\n",
       "      <td>97</td>\n",
       "      <td>103</td>\n",
       "    </tr>\n",
       "    <tr>\n",
       "      <th>3</th>\n",
       "      <td>3.012286</td>\n",
       "      <td>3.106954</td>\n",
       "      <td>l</td>\n",
       "      <td>phone</td>\n",
       "      <td>66420</td>\n",
       "      <td>68508</td>\n",
       "      <td>130</td>\n",
       "      <td>133</td>\n",
       "    </tr>\n",
       "    <tr>\n",
       "      <th>4</th>\n",
       "      <td>3.106954</td>\n",
       "      <td>3.378611</td>\n",
       "      <td>i</td>\n",
       "      <td>phone</td>\n",
       "      <td>68508</td>\n",
       "      <td>74498</td>\n",
       "      <td>134</td>\n",
       "      <td>145</td>\n",
       "    </tr>\n",
       "  </tbody>\n",
       "</table>\n",
       "</div>"
      ],
      "text/plain": [
       "      start       end value   tier  start_sample  end_sample  \\\n",
       "0  1.936085  2.017377     l  phone         42690       44483   \n",
       "1  2.017377  2.248902     a  phone         44483       49588   \n",
       "2  2.248902  2.408397     n  phone         49588       53105   \n",
       "3  3.012286  3.106954     l  phone         66420       68508   \n",
       "4  3.106954  3.378611     i  phone         68508       74498   \n",
       "\n",
       "   mfcc_index_start  mfcc_index_end  \n",
       "0                83              86  \n",
       "1                87              96  \n",
       "2                97             103  \n",
       "3               130             133  \n",
       "4               134             145  "
      ]
     },
     "execution_count": 168,
     "metadata": {},
     "output_type": "execute_result"
    }
   ],
   "source": [
    "df['mfcc_index_start']=df['start_sample']//samples_per_mfcc_window\n",
    "df['mfcc_index_end']=df['end_sample']//samples_per_mfcc_window-1\n",
    "\n",
    "df.head()"
   ]
  },
  {
   "cell_type": "code",
   "execution_count": 169,
   "id": "bf47510f",
   "metadata": {},
   "outputs": [
    {
     "data": {
      "text/plain": [
       "array([0., 0., 0., 0., 0., 0., 0., 0., 0., 0., 0., 0., 0., 0., 0., 0., 0.,\n",
       "       0., 0., 0., 0., 0., 0., 0., 0., 0., 0., 0., 0., 0., 0., 0., 0., 0.,\n",
       "       0., 0., 0., 0., 0., 0., 0., 0., 0., 0., 0., 0., 0., 0., 0., 0., 0.,\n",
       "       0., 0., 0., 0., 0., 0., 0., 0., 0., 0., 0., 0., 0., 0., 0., 0., 0.,\n",
       "       0., 0., 0., 0., 0., 0., 0., 0., 0., 0., 0., 0., 0., 0., 0., 3., 3.,\n",
       "       3., 0., 1., 1., 1., 1., 1., 1., 1., 1., 1., 0., 4., 4., 4., 4., 4.,\n",
       "       4., 0., 0., 0., 0., 0., 0., 0., 0., 0., 0., 0., 0., 0., 0., 0., 0.,\n",
       "       0., 0., 0., 0., 0., 0., 0., 0., 0., 0., 0., 3., 3., 3., 0., 2., 2.,\n",
       "       2., 2., 2., 2., 2., 2., 2., 2., 2., 0., 4., 4., 4., 0., 0., 0., 0.,\n",
       "       0., 0., 0., 0., 0., 0., 0., 0., 0., 0., 0., 0., 0., 0., 0., 0., 0.,\n",
       "       0., 0., 0., 0., 0., 0., 0., 0., 0., 0., 0., 4., 4., 4., 4., 4., 0.,\n",
       "       2., 2., 2., 2., 2., 2., 0., 3., 3., 3., 3., 3., 3., 3., 3., 0., 0.,\n",
       "       0., 0., 0., 0., 0., 0., 0., 0., 0., 0., 0., 0., 0., 0., 0., 0., 0.,\n",
       "       0., 0., 0., 0., 0., 0., 0., 0., 0., 4., 4., 4., 4., 4., 4., 0., 2.,\n",
       "       2., 2., 2., 2., 2., 2., 2., 0., 0., 0., 0., 0., 0., 0., 0., 0., 0.,\n",
       "       0., 0., 0., 0., 0., 0., 0., 0., 0., 0., 0., 0., 0., 0., 0., 0., 0.,\n",
       "       0., 0., 0., 0., 0., 0., 4., 4., 4., 0., 1., 1., 1., 1., 1., 1., 1.,\n",
       "       1., 1., 1., 0., 0., 0., 0., 0., 0., 0., 0., 0., 0., 0., 0., 0., 0.,\n",
       "       0., 0., 0., 0., 0., 0., 0., 0., 0., 0., 0., 0., 0., 0., 0., 0., 0.,\n",
       "       0., 0., 0., 0., 0., 0., 0., 0., 0., 0., 0., 0., 0., 0., 0., 0., 0.,\n",
       "       0., 0., 0., 0., 0., 0., 0., 0., 0., 0., 0., 0., 0., 0., 0., 0., 0.,\n",
       "       0., 0., 0., 0., 0., 0., 0., 0., 0., 0., 0., 0., 0., 0., 0., 0.])"
      ]
     },
     "execution_count": 169,
     "metadata": {},
     "output_type": "execute_result"
    }
   ],
   "source": [
    "phoneme2index = {'nonspeech': 0, 'a': 1, 'i': 2, 'l': 3, 'n': 4}\n",
    "index2phoneme = {value:key for key, value in phoneme2index.items()}\n",
    "mfcc_phoneme_ids = np.zeros(mfcc_window_count)\n",
    "\n",
    "def set_mfcc_phoneme_ids(row):\n",
    "    mfcc_phoneme_ids[row['mfcc_index_start']:row['mfcc_index_end']]=phoneme2index[row['value']]\n",
    "\n",
    "df[df['tier']=='phone'].apply(set_mfcc_phoneme_ids, axis=1)\n",
    "mfcc_phoneme_ids"
   ]
  },
  {
   "cell_type": "markdown",
   "id": "99d7115e",
   "metadata": {},
   "source": [
    "Let's visualize the MFCCs using `t-SNE`"
   ]
  },
  {
   "cell_type": "code",
   "execution_count": 170,
   "id": "cbf385b5",
   "metadata": {},
   "outputs": [
    {
     "data": {
      "text/plain": [
       "(373, 2)"
      ]
     },
     "execution_count": 170,
     "metadata": {},
     "output_type": "execute_result"
    }
   ],
   "source": [
    "mfcc_tsne = sklearn.manifold.TSNE().fit_transform(mfcc_matrix.T)\n",
    "mfcc_tsne.shape"
   ]
  },
  {
   "cell_type": "code",
   "execution_count": 171,
   "id": "f2b5ae01",
   "metadata": {},
   "outputs": [
    {
     "data": {
      "text/html": [
       "<div>\n",
       "<style scoped>\n",
       "    .dataframe tbody tr th:only-of-type {\n",
       "        vertical-align: middle;\n",
       "    }\n",
       "\n",
       "    .dataframe tbody tr th {\n",
       "        vertical-align: top;\n",
       "    }\n",
       "\n",
       "    .dataframe thead th {\n",
       "        text-align: right;\n",
       "    }\n",
       "</style>\n",
       "<table border=\"1\" class=\"dataframe\">\n",
       "  <thead>\n",
       "    <tr style=\"text-align: right;\">\n",
       "      <th></th>\n",
       "      <th>0</th>\n",
       "      <th>1</th>\n",
       "      <th>phoneme</th>\n",
       "    </tr>\n",
       "  </thead>\n",
       "  <tbody>\n",
       "    <tr>\n",
       "      <th>0</th>\n",
       "      <td>12.340375</td>\n",
       "      <td>-0.410551</td>\n",
       "      <td>nonspeech</td>\n",
       "    </tr>\n",
       "    <tr>\n",
       "      <th>1</th>\n",
       "      <td>11.665703</td>\n",
       "      <td>0.109347</td>\n",
       "      <td>nonspeech</td>\n",
       "    </tr>\n",
       "    <tr>\n",
       "      <th>2</th>\n",
       "      <td>-5.458351</td>\n",
       "      <td>5.690603</td>\n",
       "      <td>nonspeech</td>\n",
       "    </tr>\n",
       "    <tr>\n",
       "      <th>3</th>\n",
       "      <td>-12.369607</td>\n",
       "      <td>6.142801</td>\n",
       "      <td>nonspeech</td>\n",
       "    </tr>\n",
       "    <tr>\n",
       "      <th>4</th>\n",
       "      <td>-25.318262</td>\n",
       "      <td>5.181537</td>\n",
       "      <td>nonspeech</td>\n",
       "    </tr>\n",
       "  </tbody>\n",
       "</table>\n",
       "</div>"
      ],
      "text/plain": [
       "           0         1    phoneme\n",
       "0  12.340375 -0.410551  nonspeech\n",
       "1  11.665703  0.109347  nonspeech\n",
       "2  -5.458351  5.690603  nonspeech\n",
       "3 -12.369607  6.142801  nonspeech\n",
       "4 -25.318262  5.181537  nonspeech"
      ]
     },
     "execution_count": 171,
     "metadata": {},
     "output_type": "execute_result"
    }
   ],
   "source": [
    "tsne_df = pd.DataFrame(mfcc_tsne)\n",
    "tsne_df['phoneme']=mfcc_phoneme_ids\n",
    "tsne_df['phoneme']=tsne_df['phoneme'].map(index2phoneme)\n",
    "tsne_df.head()"
   ]
  },
  {
   "cell_type": "code",
   "execution_count": 172,
   "id": "31c5b4ac",
   "metadata": {},
   "outputs": [],
   "source": [
    "speech_mask = tsne_df['phoneme']!='nonspeech'"
   ]
  },
  {
   "cell_type": "code",
   "execution_count": 173,
   "id": "af53b10d",
   "metadata": {},
   "outputs": [
    {
     "data": {
      "text/plain": [
       "<Axes: xlabel='0', ylabel='1'>"
      ]
     },
     "execution_count": 173,
     "metadata": {},
     "output_type": "execute_result"
    },
    {
     "data": {
      "image/png": "[encoded data removed]",
      "text/plain": [
       "<Figure size 432x288 with 1 Axes>"
      ]
     },
     "metadata": {
      "needs_background": "light"
     },
     "output_type": "display_data"
    }
   ],
   "source": [
    "sns.scatterplot(tsne_df[speech_mask], x=0, y=1, hue='phoneme')"
   ]
  }
 ],
 "metadata": {
  "kernelspec": {
   "display_name": "Python 3",
   "language": "python",
   "name": "python3"
  },
  "language_info": {
   "codemirror_mode": {
    "name": "ipython",
    "version": 3
   },
   "file_extension": ".py",
   "mimetype": "text/x-python",
   "name": "python",
   "nbconvert_exporter": "python",
   "pygments_lexer": "ipython3",
   "version": "3.9.22"
  }
 },
 "nbformat": 4,
 "nbformat_minor": 5
}
